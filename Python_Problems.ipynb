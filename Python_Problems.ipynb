{
  "nbformat": 4,
  "nbformat_minor": 0,
  "metadata": {
    "colab": {
      "provenance": []
    },
    "kernelspec": {
      "name": "python3",
      "display_name": "Python 3"
    },
    "language_info": {
      "name": "python"
    }
  },
  "cells": [
    {
      "cell_type": "markdown",
      "source": [
        "Question No.1"
      ],
      "metadata": {
        "id": "AN6DSVRQ-FzA"
      }
    },
    {
      "cell_type": "code",
      "source": [
        "input = ['h', 'e', 'l', 'l','o']\n",
        "print(\"Original String :\",input)\n",
        "input.reverse()\n",
        "print(\"Reversed String\",input)"
      ],
      "metadata": {
        "colab": {
          "base_uri": "https://localhost:8080/"
        },
        "id": "eZKfFyuGFS9s",
        "outputId": "debd9c50-c990-4aa5-9f39-1bd4d6866e7f"
      },
      "execution_count": 15,
      "outputs": [
        {
          "output_type": "stream",
          "name": "stdout",
          "text": [
            "Original String : ['h', 'e', 'l', 'l', 'o']\n",
            "Reversed String ['o', 'l', 'l', 'e', 'h']\n"
          ]
        }
      ]
    },
    {
      "cell_type": "markdown",
      "source": [
        "Question No.2"
      ],
      "metadata": {
        "id": "qj8-GBeYFPuN"
      }
    },
    {
      "cell_type": "code",
      "source": [
        "def Palindrome(x):\n",
        "  x=x.lower()\n",
        "  specialchar=[';',',','[',']','@','#','?',':','|','!',\"<\",'>','.','(',')','&','^','%','$','*','_']\n",
        "  for i in specialchar:\n",
        "    x=x.replace(i,\"\")\n",
        "  x=x.replace(\" \",\"\") # removing white spaces\n",
        "  str1=\"\"\n",
        "  for i in x:\n",
        "    str1=i+str1\n",
        "  if (x==str1):\n",
        "    print(\"True\")\n",
        "  else:\n",
        "    print(\"False\")\n",
        "\n",
        "\n",
        "sentence=\"A man, a plan,a canal:Panama\"\n",
        "Palindrome(sentence)"
      ],
      "metadata": {
        "colab": {
          "base_uri": "https://localhost:8080/"
        },
        "id": "Kh_FhzjG_7E0",
        "outputId": "594dc088-cf97-4fd1-8d07-12648a1c9e7c"
      },
      "execution_count": 10,
      "outputs": [
        {
          "output_type": "stream",
          "name": "stdout",
          "text": [
            "True\n"
          ]
        }
      ]
    },
    {
      "cell_type": "markdown",
      "source": [
        "Question No.3"
      ],
      "metadata": {
        "id": "sr2V21VI_7hD"
      }
    },
    {
      "cell_type": "code",
      "source": [
        "input=4\n",
        "ans=4**(1/2)\n",
        "print(int(ans))"
      ],
      "metadata": {
        "colab": {
          "base_uri": "https://localhost:8080/"
        },
        "id": "GzI6HVv3-EbJ",
        "outputId": "e5951bac-ba74-4d02-ff5e-3e8ed3f03790"
      },
      "execution_count": 2,
      "outputs": [
        {
          "output_type": "stream",
          "name": "stdout",
          "text": [
            "2\n"
          ]
        }
      ]
    }
  ]
}