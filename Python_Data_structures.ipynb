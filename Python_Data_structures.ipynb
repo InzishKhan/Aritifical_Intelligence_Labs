{
  "nbformat": 4,
  "nbformat_minor": 0,
  "metadata": {
    "colab": {
      "provenance": []
    },
    "kernelspec": {
      "name": "python3",
      "display_name": "Python 3"
    },
    "language_info": {
      "name": "python"
    }
  },
  "cells": [
    {
      "cell_type": "markdown",
      "source": [
        "Question No.1"
      ],
      "metadata": {
        "id": "ji2HfIf6H575"
      }
    },
    {
      "cell_type": "code",
      "execution_count": 16,
      "metadata": {
        "colab": {
          "base_uri": "https://localhost:8080/"
        },
        "id": "5ZKhPIP4Hw2c",
        "outputId": "432ab381-8c29-4b9b-9924-4187cc07466b"
      },
      "outputs": [
        {
          "output_type": "stream",
          "name": "stdout",
          "text": [
            "[4, 5, 6, 7, 8, 9, 10, 11, 12]\n"
          ]
        }
      ],
      "source": [
        "def linearM(l1,l2):\n",
        "  l1.extend(l2)\n",
        "  return sorted(l1)\n",
        "\n",
        "list1=[4,9,10,11]\n",
        "list2=[5,6,7,8,12]\n",
        "ans=linearM(list1,list2)\n",
        "print(ans)"
      ]
    },
    {
      "cell_type": "markdown",
      "source": [
        "Question No.2"
      ],
      "metadata": {
        "id": "9TSZVpwgLkjf"
      }
    },
    {
      "cell_type": "code",
      "source": [
        "employees = ['Kelly', 'Emma', 'John']\n",
        "defaults = {\"designation\": 'Application Developer', \"salary\": 8000}\n",
        "ans={e:defaults for e in employees}\n",
        "print(ans)"
      ],
      "metadata": {
        "colab": {
          "base_uri": "https://localhost:8080/"
        },
        "id": "qfBnArrzLj-y",
        "outputId": "cc6d5115-62bd-45d1-81fe-74d04772b2ce"
      },
      "execution_count": 18,
      "outputs": [
        {
          "output_type": "stream",
          "name": "stdout",
          "text": [
            "{'Kelly': {'designation': 'Application Developer', 'salary': 8000}, 'Emma': {'designation': 'Application Developer', 'salary': 8000}, 'John': {'designation': 'Application Developer', 'salary': 8000}}\n"
          ]
        }
      ]
    },
    {
      "cell_type": "markdown",
      "source": [
        "Question No.3"
      ],
      "metadata": {
        "id": "8Uv3omu4N5ul"
      }
    },
    {
      "cell_type": "code",
      "source": [
        "sampleDict = {\n",
        "\"name\": \"Kelly\",\n",
        "\"age\":25,\n",
        "\"salary\": 8000,\n",
        "\"city\": \"New york\"\n",
        "}\n",
        "\n",
        "keysToRemove = [\"name\", \"salary\"]\n",
        "ans={k:sampleDict[k] for k in sampleDict if k not in keysToRemove}\n",
        "print(ans)"
      ],
      "metadata": {
        "colab": {
          "base_uri": "https://localhost:8080/"
        },
        "id": "tX5fI804N5N3",
        "outputId": "1e23e209-bd31-48d5-9f21-282f508e5f6c"
      },
      "execution_count": 25,
      "outputs": [
        {
          "output_type": "stream",
          "name": "stdout",
          "text": [
            "{'age': 25, 'city': 'New york'}\n"
          ]
        }
      ]
    },
    {
      "cell_type": "markdown",
      "source": [
        "Question No.4"
      ],
      "metadata": {
        "id": "CxUcxMWsQGYi"
      }
    },
    {
      "cell_type": "code",
      "source": [
        "x=set([1,2,3,3,8,6])\n",
        "y=set([2,8,9,6,5,4])\n",
        "ans=x-y\n",
        "print(ans)"
      ],
      "metadata": {
        "colab": {
          "base_uri": "https://localhost:8080/"
        },
        "id": "b9uDVFgIQGFz",
        "outputId": "d69d781c-3d81-4f4b-a35a-e6878515c8f4"
      },
      "execution_count": 27,
      "outputs": [
        {
          "output_type": "stream",
          "name": "stdout",
          "text": [
            "{1, 3}\n"
          ]
        }
      ]
    },
    {
      "cell_type": "markdown",
      "source": [
        "Question No.5"
      ],
      "metadata": {
        "id": "4kNLTYvYQx5G"
      }
    },
    {
      "cell_type": "code",
      "source": [
        "def excephandle(a1,a2):\n",
        "  try:\n",
        "     return a1/a2\n",
        "\n",
        "  except ZeroDivisionError:\n",
        "    return f\"Division by zero is not allowed\"\n",
        "\n",
        "ans=excephandle(2,0)\n",
        "print(ans)"
      ],
      "metadata": {
        "colab": {
          "base_uri": "https://localhost:8080/"
        },
        "id": "pPN5supMQxZw",
        "outputId": "1e8de33e-32b6-48d0-8fc8-56ab8f383bba"
      },
      "execution_count": 28,
      "outputs": [
        {
          "output_type": "stream",
          "name": "stdout",
          "text": [
            "Division by zero is not allowed\n"
          ]
        }
      ]
    }
  ]
}