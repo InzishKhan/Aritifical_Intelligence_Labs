{
  "nbformat": 4,
  "nbformat_minor": 0,
  "metadata": {
    "colab": {
      "provenance": []
    },
    "kernelspec": {
      "name": "python3",
      "display_name": "Python 3"
    },
    "language_info": {
      "name": "python"
    }
  },
  "cells": [
    {
      "cell_type": "code",
      "execution_count": null,
      "metadata": {
        "id": "gS0gWmSfQf3Q",
        "outputId": "570806d8-05cc-4dae-ef9a-d926ef95a3c5",
        "colab": {
          "base_uri": "https://localhost:8080/"
        }
      },
      "outputs": [
        {
          "output_type": "stream",
          "name": "stdout",
          "text": [
            "Number of Chickens: many\n"
          ]
        }
      ],
      "source": [
        "#task1\n",
        "def chickens(ans):\n",
        "  string=\"many\"\n",
        "  if(ans<10):\n",
        "    return (f\"Number of Chickens : {ans}\")\n",
        "  else:\n",
        "    return (f\"Number of Chickens: {string}\")\n",
        "\n",
        "ans=chickens(10)\n",
        "print(ans)"
      ]
    },
    {
      "cell_type": "code",
      "source": [
        "#task2\n",
        "def CrtString(string):\n",
        "  ans=[]\n",
        "  lengthstr=len(string)\n",
        "  if(lengthstr<=3):\n",
        "    return ans\n",
        "  else:\n",
        "      ans.append(string[:3]+string[lengthstr-3:lengthstr])\n",
        "  return ans\n",
        "\n",
        "ans=CrtString(\"intelligence\")\n",
        "print(ans)"
      ],
      "metadata": {
        "id": "Gd4ZoGY4QrxV",
        "outputId": "c372926f-f3df-4f83-f105-03b8a2939105",
        "colab": {
          "base_uri": "https://localhost:8080/"
        }
      },
      "execution_count": null,
      "outputs": [
        {
          "output_type": "stream",
          "name": "stdout",
          "text": [
            "['intnce']\n"
          ]
        }
      ]
    },
    {
      "cell_type": "code",
      "source": [
        "#task3\n",
        "def ReplaceOcc(str1):\n",
        "  str1=str1.lower()\n",
        "  newstr=''\n",
        "  newstr=str1[0]\n",
        "  str2=''\n",
        "  str2=str1[0]\n",
        "  for i in range(1,len(str1)):\n",
        "    if(str2==str1[i]):\n",
        "      newstr+='@'\n",
        "    else:\n",
        "      newstr+=str(str1[i])\n",
        "  return newstr\n",
        "\n",
        "ans=ReplaceOcc(\"Ooogle\")\n",
        "print(ans)"
      ],
      "metadata": {
        "id": "RNgp7rsGQr0b",
        "outputId": "e583cbce-9845-4b2b-e2f2-e78ecfda1c80",
        "colab": {
          "base_uri": "https://localhost:8080/"
        }
      },
      "execution_count": null,
      "outputs": [
        {
          "output_type": "stream",
          "name": "stdout",
          "text": [
            "o@@gle\n"
          ]
        }
      ]
    },
    {
      "cell_type": "code",
      "source": [
        "#task4\n",
        "def stringJumble(string1,string2):\n",
        "  lenstr1=len(string1)\n",
        "  lenstr2=len(string2)\n",
        "  newstr=''\n",
        "  str1=string2[:2]+string1[lenstr1-1:lenstr1]\n",
        "  str2=string1[:2]+string2[lenstr2-1:lenstr2]\n",
        "  return str1+\" \"+str2\n",
        "\n",
        "ans=stringJumble(\"mix\",\"pod\")\n",
        "print(ans)"
      ],
      "metadata": {
        "id": "SlYz35wbQr3Z",
        "outputId": "936afd15-dd9b-43a5-cede-7d391c59fb70",
        "colab": {
          "base_uri": "https://localhost:8080/"
        }
      },
      "execution_count": null,
      "outputs": [
        {
          "output_type": "stream",
          "name": "stdout",
          "text": [
            "pox mid\n"
          ]
        }
      ]
    },
    {
      "cell_type": "code",
      "source": [
        "#task5\n",
        "def FtoL(lists):\n",
        "  c=0\n",
        "  if(len(lists)<2):\n",
        "    return c\n",
        "  for j in lists:\n",
        "    if(j[0]==j[-1]):\n",
        "      c=c+1\n",
        "  return c\n",
        "\n",
        "string=['lol','poop','mom','party']\n",
        "ans=FtoL(string)\n",
        "print(ans)"
      ],
      "metadata": {
        "id": "8Qkn4Ni6Qr6k",
        "outputId": "e4f7f77f-9ad8-4379-8025-3677dc26cea2",
        "colab": {
          "base_uri": "https://localhost:8080/"
        }
      },
      "execution_count": null,
      "outputs": [
        {
          "output_type": "stream",
          "name": "stdout",
          "text": [
            "3\n"
          ]
        }
      ]
    },
    {
      "cell_type": "code",
      "source": [
        "#task6\n",
        "def groupStr(string):\n",
        "  string.sort()\n",
        "  return string\n",
        "\n",
        "ans=groupStr(['mix', 'xyz', 'apple', 'xanadu', 'aardvark'])\n",
        "print(ans)"
      ],
      "metadata": {
        "id": "t-fc5zOhQr9h",
        "outputId": "5bb5bd19-182d-46f1-cf3b-fa10f9e47799",
        "colab": {
          "base_uri": "https://localhost:8080/"
        }
      },
      "execution_count": null,
      "outputs": [
        {
          "output_type": "stream",
          "name": "stdout",
          "text": [
            "['aardvark', 'apple', 'mix', 'xanadu', 'xyz']\n"
          ]
        }
      ]
    },
    {
      "cell_type": "code",
      "source": [
        "#task7\n",
        "def lastE(n):\n",
        "  return n[-1]\n",
        "def sortTuple(string):\n",
        "  stuple=sorted(string,key=lastE)\n",
        "  return stuple\n",
        "\n",
        "ans=sortTuple([(1, 7), (1, 3), (3, 4, 5), (2, 2)])\n",
        "print(ans)"
      ],
      "metadata": {
        "id": "fAtgB1LTQsAY",
        "outputId": "bd58875d-2e8c-4c76-9147-d70aa5051cc1",
        "colab": {
          "base_uri": "https://localhost:8080/"
        }
      },
      "execution_count": null,
      "outputs": [
        {
          "output_type": "stream",
          "name": "stdout",
          "text": [
            "[(2, 2), (1, 3), (3, 4, 5), (1, 7)]\n"
          ]
        }
      ]
    },
    {
      "cell_type": "code",
      "source": [
        "#task8\n",
        "def Palindrome(string):\n",
        "  revS=string[::-1]\n",
        "  if(string==revS):\n",
        "    print(f'The given string {string} is Palindrome')\n",
        "  else:\n",
        "    print(f'The given string {string} is not Palindrome')\n",
        "\n",
        "ans=Palindrome(\"racecar\")\n"
      ],
      "metadata": {
        "id": "9kgEM3M-QsDR",
        "colab": {
          "base_uri": "https://localhost:8080/"
        },
        "outputId": "00426f1c-198c-4166-dc7a-6521da41c63b"
      },
      "execution_count": null,
      "outputs": [
        {
          "output_type": "stream",
          "name": "stdout",
          "text": [
            "The given string racecar is Palindrome\n"
          ]
        }
      ]
    },
    {
      "cell_type": "code",
      "source": [
        "#task9\n",
        "def ListFlat(lists):\n",
        "   return a[0]+a[1]\n",
        "\n",
        "a=[[1,2,3],\n",
        "   [4,5]]\n",
        "ans=ListFlat(a)\n",
        "print(ans)"
      ],
      "metadata": {
        "id": "vhSMWzR8QsGC",
        "colab": {
          "base_uri": "https://localhost:8080/"
        },
        "outputId": "cb07de75-82b2-446b-b78e-6ad3588e956c"
      },
      "execution_count": null,
      "outputs": [
        {
          "output_type": "stream",
          "name": "stdout",
          "text": [
            "[1, 2, 3, 4, 5]\n"
          ]
        }
      ]
    },
    {
      "cell_type": "code",
      "source": [
        "#task10\n",
        "def Lcommon(str1,str2):\n",
        "  l1=set(str1)\n",
        "  l2=set(str2)\n",
        "  return l1 and l2\n",
        "\n",
        "l1=[1,2,3,4,7,5]\n",
        "l2=[2,3,7]\n",
        "ans=Lcommon(l1,l2)\n",
        "print(list(ans))"
      ],
      "metadata": {
        "id": "FWXLfzgJQsI2",
        "colab": {
          "base_uri": "https://localhost:8080/"
        },
        "outputId": "716fe3a4-57dc-4c43-9b43-1346e2ad4722"
      },
      "execution_count": null,
      "outputs": [
        {
          "output_type": "stream",
          "name": "stdout",
          "text": [
            "[2, 3, 7]\n"
          ]
        }
      ]
    },
    {
      "cell_type": "code",
      "source": [
        "#task11\n",
        "def Anagrams(l1,l2):\n",
        "  c=0\n",
        "  sl1=sorted(l1)\n",
        "  sl2=sorted(l2)\n",
        "  if sl1==sl2:\n",
        "    print(f'The given strings are Anagrams')\n",
        "  else:\n",
        "    print(f'The given strings are not  Anagram')\n",
        "\n",
        "str1='iceman'\n",
        "str2='cinema'\n",
        "ans=Anagrams(str1,str2)"
      ],
      "metadata": {
        "id": "APlZiKpaQsLf",
        "colab": {
          "base_uri": "https://localhost:8080/"
        },
        "outputId": "bfdaad57-bd32-493b-f31b-220a3c095997"
      },
      "execution_count": null,
      "outputs": [
        {
          "output_type": "stream",
          "name": "stdout",
          "text": [
            "The given strings are Anagrams\n"
          ]
        }
      ]
    },
    {
      "cell_type": "code",
      "source": [
        "def BFS(sortedL, target):\n",
        "    l = 0\n",
        "    h = len(sortedL) - 1\n",
        "\n",
        "    while l <= h:\n",
        "        d = (l + h) // 2\n",
        "        m = sortedL[d]\n",
        "\n",
        "        if m == target:\n",
        "            return (f'Target {target} index is at {d}')\n",
        "        elif m < target:\n",
        "            l = d + 1\n",
        "        else:\n",
        "            h = d - 1\n",
        "\n",
        "    return (f'-1')\n",
        "\n",
        "ans = BFS([1,2,3,19,20,5,8,7], 19)\n",
        "print(ans)\n"
      ],
      "metadata": {
        "id": "B0gUVJTgQsPC",
        "colab": {
          "base_uri": "https://localhost:8080/"
        },
        "outputId": "9a51255d-d3f1-4bbb-c84f-ae65d21f6111"
      },
      "execution_count": 40,
      "outputs": [
        {
          "output_type": "stream",
          "name": "stdout",
          "text": [
            "Target 19 index is at 3\n"
          ]
        }
      ]
    },
    {
      "cell_type": "markdown",
      "source": [
        "change from these onwards"
      ],
      "metadata": {
        "id": "odnyzq4jxRP2"
      }
    },
    {
      "cell_type": "code",
      "source": [
        "#task13\n",
        "def mergeSort(arr):\n",
        "    if len(arr) <= 1:\n",
        "        return arr\n",
        "\n",
        "    mid = len(arr) // 2\n",
        "    left_half = arr[:mid]\n",
        "    right_half = arr[mid:]\n",
        "\n",
        "    left_half = mergeSort(left_half)\n",
        "    right_half = mergeSort(right_half)\n",
        "\n",
        "    return merge(left_half, right_half)\n",
        "\n",
        "def merge(left, right):\n",
        "    result = []\n",
        "    i = j = 0\n",
        "\n",
        "    while i < len(left) and j < len(right):\n",
        "        if left[i] < right[j]:\n",
        "            result.append(left[i])\n",
        "            i += 1\n",
        "        else:\n",
        "            result.append(right[j])\n",
        "            j += 1\n",
        "\n",
        "    result.extend(left[i:])\n",
        "    result.extend(right[j:])\n",
        "    return result\n",
        "\n",
        "\n",
        "\n",
        "ans = mergeSort([39, 23, 41, 2, 6, 82, 10])\n",
        "print(\"Sorted List:\", ans)\n"
      ],
      "metadata": {
        "id": "Lm6CmcAAQ2xI",
        "colab": {
          "base_uri": "https://localhost:8080/"
        },
        "outputId": "f903d7a2-a522-4ea7-c90f-1d1798d0eaca"
      },
      "execution_count": 38,
      "outputs": [
        {
          "output_type": "stream",
          "name": "stdout",
          "text": [
            "Sorted List: [2, 6, 10, 23, 39, 41, 82]\n"
          ]
        }
      ]
    },
    {
      "cell_type": "code",
      "source": [
        "#task14\n",
        "def quickSort(arr):\n",
        "    if len(arr) <= 1:\n",
        "        return arr\n",
        "    left=[]\n",
        "    middle=[]\n",
        "    right=[]\n",
        "    pivot = arr[len(arr) // 2]\n",
        "    for x in arr:\n",
        "      if x < pivot:\n",
        "        left.append(x)\n",
        "    for x in arr:\n",
        "      if x == pivot:\n",
        "        middle.append(x)\n",
        "    for x in arr:\n",
        "      if x > pivot:\n",
        "        right.append(x)\n",
        "\n",
        "    return quickSort(left) + middle + quickSort(right)\n",
        "\n",
        "\n",
        "\n",
        "ans = quickSort([39, 23, 41, 2, 6, 82, 10])\n",
        "print(\"Sorted List:\", ans)\n"
      ],
      "metadata": {
        "id": "ge1DXyfBQ2-H",
        "colab": {
          "base_uri": "https://localhost:8080/"
        },
        "outputId": "29bf8638-5ec5-4577-f553-9e2c453b8aae"
      },
      "execution_count": 36,
      "outputs": [
        {
          "output_type": "stream",
          "name": "stdout",
          "text": [
            "Sorted List: [2, 6, 10, 23, 39, 41, 82]\n"
          ]
        }
      ]
    },
    {
      "cell_type": "code",
      "source": [
        "#task15\n",
        "def FCounter(lists):\n",
        "    result= {}\n",
        "    for i in lists:\n",
        "        if i in result:\n",
        "            result[i] += 1\n",
        "        else:\n",
        "            result[i] = 1\n",
        "    return result\n",
        "\n",
        "ans = FCounter([1,2,2,3,4,2])\n",
        "print(\"Frequency Counter:\", ans)"
      ],
      "metadata": {
        "id": "IUn6rf5eQ3Jf",
        "colab": {
          "base_uri": "https://localhost:8080/"
        },
        "outputId": "96372b47-8ab7-42aa-fe63-e292300f3ce9"
      },
      "execution_count": null,
      "outputs": [
        {
          "output_type": "stream",
          "name": "stdout",
          "text": [
            "Frequency Counter: {1: 1, 2: 3, 3: 1, 4: 1}\n"
          ]
        }
      ]
    },
    {
      "cell_type": "code",
      "source": [
        "#task16\n",
        "def CDistinctE(lists):\n",
        "    lists=set(lists)\n",
        "    return len(lists)\n",
        "\n",
        "\n",
        "ans= CDistinctE([1,2,2,3,4,2])\n",
        "print(\"Distinct Element Count:\", ans)"
      ],
      "metadata": {
        "id": "eHtL19d6Q3R_",
        "colab": {
          "base_uri": "https://localhost:8080/"
        },
        "outputId": "03ce2eaf-2e63-4e93-e440-02672c886e7f"
      },
      "execution_count": null,
      "outputs": [
        {
          "output_type": "stream",
          "name": "stdout",
          "text": [
            "Distinct Element Count: 4\n"
          ]
        }
      ]
    },
    {
      "cell_type": "code",
      "source": [
        "#task17\n",
        "def union_and_intersection(set1, set2):\n",
        "    # Union\n",
        "    union_set = set1.copy()\n",
        "    for element in set2:\n",
        "        if element not in union_set:\n",
        "            union_set.add(element)\n",
        "\n",
        "    # Intersection\n",
        "    intersection_set = set()\n",
        "    for element in set1:\n",
        "        if element in set2:\n",
        "            intersection_set.add(element)\n",
        "\n",
        "    return union_set, intersection_set\n",
        "\n",
        "set1 = {1, 2, 3, 4}\n",
        "set2 = {3, 4, 5, 6}\n",
        "result = union_and_intersection(set1, set2)\n",
        "print(\"Union:\", result[0])\n",
        "print(\"Intersection:\", result[1])\n"
      ],
      "metadata": {
        "id": "NEutgM_CQ3Zv",
        "colab": {
          "base_uri": "https://localhost:8080/"
        },
        "outputId": "95036fc4-429d-4bcf-f938-fc18375863da"
      },
      "execution_count": null,
      "outputs": [
        {
          "output_type": "stream",
          "name": "stdout",
          "text": [
            "Union: {1, 2, 3, 4, 5, 6}\n",
            "Intersection: {3, 4}\n"
          ]
        }
      ]
    },
    {
      "cell_type": "code",
      "source": [
        "#task18\n",
        "def UniqueVal(dict):\n",
        "    sets=set(dict.values())\n",
        "    return list(sets)\n",
        "\n",
        "\n",
        "ans = UniqueVal({'a': 1, 'b': 2, 'c': 1, 'd': 3})\n",
        "print(\"Unique Values in Dictionary:\", ans)"
      ],
      "metadata": {
        "id": "wZlKi6v7Q3hE",
        "colab": {
          "base_uri": "https://localhost:8080/"
        },
        "outputId": "ac6ee5cf-f7ca-446e-ccb4-e9d1237d5ba9"
      },
      "execution_count": 32,
      "outputs": [
        {
          "output_type": "stream",
          "name": "stdout",
          "text": [
            "Unique Values in Dictionary: [1, 2, 3]\n"
          ]
        }
      ]
    },
    {
      "cell_type": "code",
      "source": [
        "#task19\n",
        "def MCommonVal(dictionary):\n",
        "    frequency = {}\n",
        "    maxC = 0\n",
        "    commonKeys=[]\n",
        "    for value in dictionary.values():\n",
        "        if value in frequency:\n",
        "           frequency[value] += 1\n",
        "        else:\n",
        "           frequency[value] = 1\n",
        "        maxC = max(maxC, frequency[value])\n",
        "\n",
        "    for key,value in dictionary.items():\n",
        "      if frequency[value]==maxC:\n",
        "        commonKeys.append(key)\n",
        "\n",
        "    return commonKeys\n",
        "\n",
        "ans= MCommonVal({'a': 1, 'b': 2, 'c': 1, 'd': 3,'e':1})\n",
        "print(\"Most Common Values in Dictionary:\", ans)\n"
      ],
      "metadata": {
        "colab": {
          "base_uri": "https://localhost:8080/"
        },
        "id": "gtF81sj5466R",
        "outputId": "1e5b77d7-dbb2-43d6-e937-5562d7f2d177"
      },
      "execution_count": 15,
      "outputs": [
        {
          "output_type": "stream",
          "name": "stdout",
          "text": [
            "Most Common Values in Dictionary: ['a', 'c', 'e']\n"
          ]
        }
      ]
    },
    {
      "cell_type": "code",
      "source": [
        "#task20\n",
        "def CDistionaries(d1, d2):\n",
        "    comDist = d1.copy()\n",
        "    comDist.update(d2)\n",
        "    return comDist\n",
        "\n",
        "ans= CDistionaries({'a': 1, 'b': 2}, {'b': 3, 'c': 4})\n",
        "print(\"Combined Dictionary:\", ans)"
      ],
      "metadata": {
        "id": "DC8w9R4mQ3um",
        "colab": {
          "base_uri": "https://localhost:8080/"
        },
        "outputId": "a03c0e52-a87b-4e65-856a-f925bcc0258e"
      },
      "execution_count": 19,
      "outputs": [
        {
          "output_type": "stream",
          "name": "stdout",
          "text": [
            "Combined Dictionary: {'a': 1, 'b': 3, 'c': 4}\n"
          ]
        }
      ]
    },
    {
      "cell_type": "code",
      "source": [
        "#task21\n",
        "def filterLists(dicts, key):\n",
        "   filter = []\n",
        "   for i in dicts:\n",
        "      if key in i:\n",
        "          filter.append(i)\n",
        "   return filter\n",
        "\n",
        "\n",
        "\n",
        "ans = filterLists([{'a': 1, 'b': 2}, {'b': 3, 'c': 4}, {'a': 5, 'd': 6}], 'b')\n",
        "print(\"Filtered List of Dictionaries: \", ans)"
      ],
      "metadata": {
        "id": "kqzcZcQ6Q32p",
        "colab": {
          "base_uri": "https://localhost:8080/"
        },
        "outputId": "92ac05bc-4b2e-46ba-d2d7-f4086eeefc7f"
      },
      "execution_count": 25,
      "outputs": [
        {
          "output_type": "stream",
          "name": "stdout",
          "text": [
            "Filtered List of Dictionaries:  [{'a': 1, 'b': 2}, {'b': 3, 'c': 4}]\n"
          ]
        }
      ]
    },
    {
      "cell_type": "code",
      "source": [
        "#task22\n",
        "def Duplicate(data):\n",
        "    already = set()\n",
        "    duplicates=[]\n",
        "    for x in data:\n",
        "      if x in already or already.add(x):\n",
        "        duplicates.append(x)\n",
        "    return list(set(duplicates))\n",
        "\n",
        "\n",
        "ans = Duplicate([1, 2, 2, 3, 3, 2, 5, 5, 6])\n",
        "print(\"Duplicates in the List:\", ans)"
      ],
      "metadata": {
        "id": "196yzmRZQ3-W",
        "colab": {
          "base_uri": "https://localhost:8080/"
        },
        "outputId": "4134c795-cb79-4518-aa5c-0522a7fe8cd6"
      },
      "execution_count": 29,
      "outputs": [
        {
          "output_type": "stream",
          "name": "stdout",
          "text": [
            "Duplicates in the List: [2, 3, 5]\n"
          ]
        }
      ]
    }
  ]
}