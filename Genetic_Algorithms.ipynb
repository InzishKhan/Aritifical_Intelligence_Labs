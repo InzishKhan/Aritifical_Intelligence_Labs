{
  "nbformat": 4,
  "nbformat_minor": 0,
  "metadata": {
    "colab": {
      "provenance": []
    },
    "kernelspec": {
      "name": "python3",
      "display_name": "Python 3"
    },
    "language_info": {
      "name": "python"
    }
  },
  "cells": [
    {
      "cell_type": "code",
      "source": [
        "import random\n",
        "\n",
        "def mutation(child, mutation_rate):\n",
        "    mchild = child.copy()\n",
        "    for i in range(len(mchild)):\n",
        "        if random.random() < mutation_rate:\n",
        "            # Mutate the gene at position i\n",
        "            mchild[i] = random.randint(0, 7)\n",
        "    return mchild\n",
        "\n",
        "def crossover(p1,p2):\n",
        "   # Choose a random crossover point\n",
        "   CrossPoint = random.randint(1, 7)\n",
        "\n",
        "   # Performing crossover\n",
        "   child1 = p1[:CrossPoint] + p2[CrossPoint:]\n",
        "   child2 = p2[:CrossPoint] + p1[CrossPoint:]\n",
        "\n",
        "   return child1, child2\n",
        "\n",
        "def selection_parent(res1):\n",
        "    return random.choices(res1, weights=[1/fitness_func(individual) for individual in res1], k=2)\n",
        "\n",
        "def fitness_func(chromosome):\n",
        "  non_attacking_pair = 0\n",
        "  for i in range(8):\n",
        "    for j in range(i+1, 8):\n",
        "      if chromosome[i]==chromosome[j] or abs(i-j)==abs(chromosome[i]-chromosome[j]):\n",
        "        non_attacking_pair += 1\n",
        "  return non_attacking_pair\n",
        "\n",
        "def generate_pop(population_size):\n",
        "    array = []\n",
        "    for i in range(population_size):\n",
        "        chromosome = []\n",
        "        for q in range(8):\n",
        "            chromosome.append(random.randrange(8))\n",
        "        array.append(chromosome)\n",
        "    return array\n",
        "\n",
        "def main():\n",
        "   res1 = generate_pop(4)\n",
        "   best_solution = None\n",
        "   best_fitness = float('inf')\n",
        "   best_fitness_generation = -1\n",
        "   for gen in range(1000):\n",
        "      #sending these generated generations to the fitness function to apply the selection Algorithm on them\n",
        "      fitness_res = [fitness_func(i) for i in res1]\n",
        "\n",
        "      # Track best solution\n",
        "      min_fitness = min(fitness_res)\n",
        "      if min_fitness < best_fitness:\n",
        "          best_fitness = min_fitness\n",
        "          best_solution = res1[fitness_res.index(best_fitness)]\n",
        "          best_fitness_generation = gen\n",
        "\n",
        "      parent1, parent2 = selection_parent(res1)\n",
        "\n",
        "      #applying crossover on the selected parents\n",
        "      c1, c2 = crossover(parent1, parent2)\n",
        "\n",
        "      #applying mutation on the generated child from crossover\n",
        "      mutation_rate = 0.1\n",
        "      mchild1 = mutation(c1, mutation_rate)\n",
        "      mchild2 = mutation(c2, mutation_rate)\n",
        "\n",
        "      #Replacing old generation with the mutated children\n",
        "      res1.append(mchild1)\n",
        "      res1.append(mchild2)\n",
        "      res1.sort(key=fitness_func)\n",
        "\n",
        "      # Checkinf for best solution\n",
        "      if fitness_func(res1[0]) == 0:\n",
        "        print(\"Solution is in generation:\", gen)\n",
        "        print(\"Generation Giving Best Solution:\", res1[0])\n",
        "        return\n",
        "\n",
        "   print(\"Best solution is in generation:\", best_fitness_generation)\n",
        "   print(\"Generation Giving Best solution:\", best_solution)\n",
        "\n",
        "if __name__==\"__main__\":\n",
        "  main()\n"
      ],
      "metadata": {
        "colab": {
          "base_uri": "https://localhost:8080/"
        },
        "id": "1rGvDatIQKi5",
        "outputId": "0d413e9d-95fb-45e2-c401-57b5950ef2e5"
      },
      "execution_count": 38,
      "outputs": [
        {
          "output_type": "stream",
          "name": "stdout",
          "text": [
            "Best solution is in generation: 21\n",
            "Generation Giving Best solution: [6, 2, 7, 1, 3, 5, 0, 4]\n"
          ]
        }
      ]
    }
  ]
}