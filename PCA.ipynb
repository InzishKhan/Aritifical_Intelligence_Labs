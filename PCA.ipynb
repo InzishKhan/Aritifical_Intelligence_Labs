{
  "nbformat": 4,
  "nbformat_minor": 0,
  "metadata": {
    "colab": {
      "provenance": []
    },
    "kernelspec": {
      "name": "python3",
      "display_name": "Python 3"
    },
    "language_info": {
      "name": "python"
    }
  },
  "cells": [
    {
      "cell_type": "code",
      "execution_count": 1,
      "metadata": {
        "colab": {
          "base_uri": "https://localhost:8080/"
        },
        "id": "LxVsYpDno9kn",
        "outputId": "2bb32138-c81f-47aa-b5ab-1985250981eb"
      },
      "outputs": [
        {
          "output_type": "stream",
          "name": "stdout",
          "text": [
            "Eigenmatrix (Matrix of Eigenvectors) : \n",
            "[[-0.56959484 -0.82192562]]\n",
            "Explained Variance Ratio: [0.95623321]\n",
            "PCA-transformed Data:\n",
            " [[ 4.71168956]\n",
            " [ 0.85439226]\n",
            " [ 1.92864865]\n",
            " [-1.10672304]\n",
            " [-2.49824349]\n",
            " [-3.88976395]]\n",
            "Recovered Data:\n",
            " [[1.81624595 1.12734164]\n",
            " [4.01334258 4.29775312]\n",
            " [3.40145168 3.41479426]\n",
            " [5.13038373 5.90964402]\n",
            " [5.9229866  7.05337032]\n",
            " [6.71558946 8.19709663]]\n"
          ]
        }
      ],
      "source": [
        "import numpy as np\n",
        "from sklearn.decomposition import PCA\n",
        "\n",
        "X=np.asarray([[2,1],[3,5],[4,3],[5,6],[6,7],[7,8]]).astype(float)\n",
        "pca =PCA(n_components=1)\n",
        "X_pca=pca.fit_transform(X)\n",
        "eigenmatrix=pca.components_\n",
        "\n",
        "print(\"Eigenmatrix (Matrix of Eigenvectors) : \")\n",
        "print(eigenmatrix)\n",
        "\n",
        "X_recovered=pca.inverse_transform(X_pca)\n",
        "\n",
        "print(\"Explained Variance Ratio:\",pca.explained_variance_ratio_)\n",
        "print(\"PCA-transformed Data:\\n\", X_pca)\n",
        "print(\"Recovered Data:\\n\", X_recovered)"
      ]
    },
    {
      "cell_type": "code",
      "source": [
        "def myPCA(X,num_components):\n",
        "  print(\"\\nMean Values :\\t\",np.mean(X, axis=0))\n",
        "  # step -1\n",
        "  means = np.mean(X, axis=0)\n",
        "  X_meaned= X-np.mean(X,axis=0)\n",
        "  X_meaned=np.round(X_meaned,2)\n",
        "  print(\"Mean Value:\\n\",X_meaned)\n",
        "  print(\"Shape\",np.shape(means))\n",
        "  #step-2\n",
        "  cov_mat=np.cov(X_meaned,rowvar=False)\n",
        "  print(\"\\n\\n Covariance Matrix\\n\\n\",cov_mat)\n",
        "\n",
        "  #step-3\n",
        "  eigen_values, eigen_vectors=np.linalg.eigh(cov_mat)\n",
        "  eigen_values=np.round(eigen_values,2)\n",
        "  eigen_vectors=np.round(eigen_vectors,2)\n",
        "  print(\"\\nEigen Value : \",eigen_values)\n",
        "  print(\"|nEigen Vector: \\n\\n\",eigen_vectors)\n",
        "\n",
        "  #step-4\n",
        "  sorted_index=np.argsort(eigen_values)[::-1]\n",
        "  sorted_eigenvalue=eigen_values[sorted_index]\n",
        "  sorted_eigenvectors=eigen_vectors[:,sorted_index]\n",
        "\n",
        "  #step-5\n",
        "  eigenvector_subset=sorted_eigenvectors[:,0:num_components]\n",
        "  print(\"\\n\\n\",eigenvector_subset)\n",
        "\n",
        "  #step-6\n",
        "  X_reduced=np.dot(eigenvector_subset.transpose(),X_meaned.transpose()).transpose()\n",
        "  print(\"\\n\",X_reduced)\n",
        "\n",
        "  #step-7\n",
        "  X_ret=np.dot(X_reduced,eigenvector_subset.transpose())\n",
        "  X_ret+=means\n",
        "  print(\"\\n\",X_ret)"
      ],
      "metadata": {
        "id": "vpZJmD4Oqrr_"
      },
      "execution_count": 2,
      "outputs": []
    },
    {
      "cell_type": "code",
      "source": [
        "myPCA(X,1)"
      ],
      "metadata": {
        "colab": {
          "base_uri": "https://localhost:8080/"
        },
        "id": "Ao8pYCvutAn7",
        "outputId": "1b82de02-b7e8-4c88-c09e-e3da226befb9"
      },
      "execution_count": 3,
      "outputs": [
        {
          "output_type": "stream",
          "name": "stdout",
          "text": [
            "\n",
            "Mean Values :\t [4.5 5. ]\n",
            "Mean Value:\n",
            " [[-2.5 -4. ]\n",
            " [-1.5  0. ]\n",
            " [-0.5 -2. ]\n",
            " [ 0.5  1. ]\n",
            " [ 1.5  2. ]\n",
            " [ 2.5  3. ]]\n",
            "Shape (2,)\n",
            "\n",
            "\n",
            " Covariance Matrix\n",
            "\n",
            " [[3.5 4.4]\n",
            " [4.4 6.8]]\n",
            "\n",
            "Eigen Value :  [0.45 9.85]\n",
            "|nEigen Vector: \n",
            "\n",
            " [[-0.82  0.57]\n",
            " [ 0.57  0.82]]\n",
            "\n",
            "\n",
            " [[0.57]\n",
            " [0.82]]\n",
            "\n",
            " [[-4.705]\n",
            " [-0.855]\n",
            " [-1.925]\n",
            " [ 1.105]\n",
            " [ 2.495]\n",
            " [ 3.885]]\n",
            "\n",
            " [[1.81815 1.1419 ]\n",
            " [4.01265 4.2989 ]\n",
            " [3.40275 3.4215 ]\n",
            " [5.12985 5.9061 ]\n",
            " [5.92215 7.0459 ]\n",
            " [6.71445 8.1857 ]]\n"
          ]
        }
      ]
    }
  ]
}