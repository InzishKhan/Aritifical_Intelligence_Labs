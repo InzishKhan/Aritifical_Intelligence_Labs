{
  "nbformat": 4,
  "nbformat_minor": 0,
  "metadata": {
    "colab": {
      "provenance": []
    },
    "kernelspec": {
      "name": "python3",
      "display_name": "Python 3"
    },
    "language_info": {
      "name": "python"
    }
  },
  "cells": [
    {
      "cell_type": "markdown",
      "source": [
        "Uniform cost Search"
      ],
      "metadata": {
        "id": "rf6qj-HPoS5P"
      }
    },
    {
      "cell_type": "code",
      "execution_count": 7,
      "metadata": {
        "colab": {
          "base_uri": "https://localhost:8080/"
        },
        "id": "KWlOO3bxoFVr",
        "outputId": "bfbcc2a8-2c15-433a-b637-8ee2a0797864"
      },
      "outputs": [
        {
          "output_type": "stream",
          "name": "stdout",
          "text": [
            "(5, ['A', 'B', 'k'])\n"
          ]
        }
      ],
      "source": [
        "import heapq\n",
        "#Memory optimization is done using a set to track visited nodes and\n",
        "#a priority queue to manage the nodes\n",
        "\n",
        "\n",
        "def UCS(graph, start, goal):\n",
        "    visited = set()\n",
        "    queue = [(0, start, [])]  # queue holding cost, vertex and path in it\n",
        "\n",
        "    while queue!=0:\n",
        "        (cost, vertex, path) = heapq.heappop(queue)\n",
        "        if vertex not in visited: #if vertex not visited then adding the vertex in path to display as the output\n",
        "            visited.add(vertex)\n",
        "            path = path + [vertex]\n",
        "\n",
        "            if vertex == goal:\n",
        "                return (cost, path)\n",
        "\n",
        "            for adjacent, weight in graph[vertex].items():\n",
        "                if adjacent not in visited:\n",
        "                    heapq.heappush(queue, (cost + weight, adjacent, path))\n",
        "\n",
        "    return (float('inf'), [])  # If no path found\n",
        "\n",
        "Graph = {\n",
        "    'A': {'B': 2, 'C': 5},\n",
        "    'B': {'A': 2, 'k': 3},\n",
        "    'C': {'A': 5, 'k': 2},\n",
        "    'k': {'B': 2, 'C': 1,'A':5},\n",
        "    'j': {'A': 1, 'B': 5,'k':4}\n",
        "}\n",
        "start = 'A'\n",
        "goal = 'k'\n",
        "print(UCS(Graph, start, goal))\n"
      ]
    }
  ]
}