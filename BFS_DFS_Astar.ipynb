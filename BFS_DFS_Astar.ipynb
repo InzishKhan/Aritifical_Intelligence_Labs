{
  "nbformat": 4,
  "nbformat_minor": 0,
  "metadata": {
    "colab": {
      "provenance": []
    },
    "kernelspec": {
      "name": "python3",
      "display_name": "Python 3"
    },
    "language_info": {
      "name": "python"
    }
  },
  "cells": [
    {
      "cell_type": "markdown",
      "source": [
        "Question 1"
      ],
      "metadata": {
        "id": "95lLg8SZ_Rq2"
      }
    },
    {
      "cell_type": "code",
      "source": [
        "def readFile(filename):\n",
        "    with open(filename, 'r') as file:\n",
        "        cube = [list(line.split()) for line in file]\n",
        "    return cube\n",
        "\n",
        "\n",
        "print(\"Reading file:\")\n",
        "array=[]\n",
        "array=readFile('cube.txt')\n",
        "for i in array:\n",
        "  print(i)"
      ],
      "metadata": {
        "colab": {
          "base_uri": "https://localhost:8080/"
        },
        "id": "N1bXi-Y__RE1",
        "outputId": "0d172f83-2920-4b39-b4a1-e77f948568fd"
      },
      "execution_count": 17,
      "outputs": [
        {
          "output_type": "stream",
          "name": "stdout",
          "text": [
            "Reading file:\n",
            "['0', '0', '1', '0', 'S', '0', '1']\n",
            "['1', '1', '0', '0', '0', '1', '1']\n",
            "['0', '0', '0', '1', '0', '1', '0']\n",
            "['1', '0', '1', '1', '0', '1', '1']\n",
            "['0', '0', '0', '1', '0', '1', '0']\n",
            "['1', '1', '0', '1', '1', '1', '0']\n",
            "['0', '0', '0', '0', '0', '0', 'G']\n"
          ]
        }
      ]
    },
    {
      "cell_type": "code",
      "execution_count": 22,
      "metadata": {
        "colab": {
          "base_uri": "https://localhost:8080/"
        },
        "id": "9OjP3Ms3tY8-",
        "outputId": "bd4d0b95-c4bb-4a3f-b949-4bb92c12e141"
      },
      "outputs": [
        {
          "output_type": "stream",
          "name": "stdout",
          "text": [
            "DFS Path: -1\n",
            "BFS Path: -1\n"
          ]
        }
      ],
      "source": [
        "from collections import deque\n",
        "\n",
        "def neighbors(pos, rows, cols):\n",
        "    i, j = pos\n",
        "    neighbors = []\n",
        "    if i > 0:\n",
        "        neighbors.append((i - 1, j))\n",
        "    if i < rows - 1:\n",
        "        neighbors.append((i + 1, j))\n",
        "    if j > 0:\n",
        "        neighbors.append((i, j - 1))\n",
        "    if j < cols - 1:\n",
        "        neighbors.append((i, j + 1))\n",
        "    return neighbors\n",
        "\n",
        "def dfs(cube):\n",
        "    rows= len(cube)\n",
        "    cols= len(cube[0])\n",
        "    visited = set()\n",
        "    start = []\n",
        "    goal = []\n",
        "\n",
        "    for i in range(rows):\n",
        "        for j in range(cols):\n",
        "            if cube[i][j] == 'S':\n",
        "                start = (i, j)\n",
        "            elif cube[i][j] == 'G':\n",
        "                goal = (i, j)\n",
        "    if start is None:\n",
        "        return -1\n",
        "\n",
        "    stack = [start]\n",
        "\n",
        "    while len(stack)!=0:\n",
        "        pos = stack.pop()\n",
        "        visited.add(pos)\n",
        "\n",
        "        if cube[pos[0]][pos[1]] == 'G':\n",
        "            return path(visited, start, pos)\n",
        "\n",
        "        for neighbor in neighbors(pos, rows, cols):\n",
        "            if neighbor not in visited and cube[neighbor[0]][neighbor[1]] == '0':\n",
        "                stack.append(neighbor)\n",
        "\n",
        "    return -1\n",
        "\n",
        "def bfs(cube):\n",
        "    rows= len(cube)\n",
        "    cols=len(cube[0])\n",
        "    visited = set()\n",
        "    start = []\n",
        "    goal = []\n",
        "\n",
        "    for i in range(rows):\n",
        "        for j in range(cols):\n",
        "            if cube[i][j] == 'S':\n",
        "                start = (i, j)\n",
        "            elif cube[i][j] == 'G':\n",
        "                goal = (i, j)\n",
        "    if start is None:\n",
        "        return -1\n",
        "\n",
        "    queue = deque([start])\n",
        "\n",
        "    while len(queue)!=0:\n",
        "        pos = queue.popleft()\n",
        "        visited.add(pos)\n",
        "\n",
        "        if cube[pos[0]][pos[1]] == 'G':\n",
        "            return path(visited, start, pos)\n",
        "\n",
        "        for neighbor in neighbors(pos, rows, cols):\n",
        "            if neighbor not in visited and cube[neighbor[0]][neighbor[1]] == '0':\n",
        "                queue.append(neighbor)\n",
        "\n",
        "    return -1\n",
        "\n",
        "def path(visited, start, goal):\n",
        "    path = [goal]\n",
        "    current = goal\n",
        "\n",
        "    while current != start:\n",
        "        neighbors = neighbors(current, len(cube), len(cube[0]))\n",
        "        current = (pos for pos in neighbors if pos in visited and pos not in path)\n",
        "        path.append(current)\n",
        "\n",
        "    return path\n",
        "\n",
        "\n",
        "DFSpath = dfs(cube)\n",
        "print(\"DFS Path:\", DFSpath)\n",
        "\n",
        "BFSath = bfs(cube)\n",
        "print(\"BFS Path:\", BFSpath)\n"
      ]
    },
    {
      "cell_type": "markdown",
      "source": [
        "Question 2"
      ],
      "metadata": {
        "id": "8QL0IyOIAl1E"
      }
    },
    {
      "cell_type": "code",
      "source": [
        "def readFile(filename):\n",
        "    with open(filename, 'r') as file:\n",
        "        cube = [list(line.split()) for line in file]\n",
        "    return cube\n",
        "\n",
        "\n",
        "print(\"Reading file:\")\n",
        "array=[]\n",
        "array=readFile('cubeWalls.txt')\n",
        "for i in array:\n",
        "  print(i)"
      ],
      "metadata": {
        "colab": {
          "base_uri": "https://localhost:8080/"
        },
        "id": "3Sarq7g4Bcrt",
        "outputId": "adbcaa9e-308e-4125-cb5d-992a5d043630"
      },
      "execution_count": 23,
      "outputs": [
        {
          "output_type": "stream",
          "name": "stdout",
          "text": [
            "Reading file:\n",
            "['1', '0', 'S', '0', '1', '0', '0']\n",
            "['1', '1', '0', '0', '0', '1', '1']\n",
            "['0', '1', '0', '1', '+', '0', '0']\n",
            "['1', '1', '+', '1', '1', '+', '1']\n",
            "['0', '1', '0', '+', '0', '+', '0']\n",
            "['0', '1', '1', '1', '0', '1', '1']\n",
            "['G', '0', '0', '0', '0', '0', '0']\n"
          ]
        }
      ]
    },
    {
      "cell_type": "code",
      "source": [
        "from heapq import heappop, heappush\n",
        "\n",
        "def hn(pos, goal):\n",
        "    return abs(pos[0] - goal[0]) + abs(pos[1] - goal[1])\n",
        "\n",
        "def Astar(cube):\n",
        "    rows = len(cube)\n",
        "    cols= len(cube[0])\n",
        "    start = []\n",
        "    goal = []\n",
        "\n",
        "    for i in range(rows):\n",
        "        for j in range(cols):\n",
        "            if cube[i][j] == 'S':\n",
        "                start = (i, j)\n",
        "            elif cube[i][j] == 'G':\n",
        "                goal = (i, j)\n",
        "\n",
        "    if not start or not goal:\n",
        "        return -1\n",
        "\n",
        "    queue = [(0, start)]\n",
        "    visited = set()\n",
        "\n",
        "    while len(queue) !=0:\n",
        "        _, pos = heappop(queue)\n",
        "\n",
        "        if pos == goal:\n",
        "            return path(visited, start, pos)\n",
        "\n",
        "        visited.add(pos)\n",
        "\n",
        "        for n in neighbors(pos, rows, cols):\n",
        "            if n not in visited:\n",
        "                cost = cube[n[0]][n[1]]\n",
        "\n",
        "                if cost == '+':  # Short wall in the graph\n",
        "                    new_cost = 2\n",
        "                elif cost == '1':  # High wall in the graph\n",
        "                    new_cost = float('inf')\n",
        "                else:  # Empty space in the graph\n",
        "                    new_cost = 1\n",
        "\n",
        "                total_cost = new_cost + hn(n, goal)\n",
        "                heappush(queue, (total_cost, n))\n",
        "\n",
        "    return -1\n",
        "\n",
        "def path(visited, start, goal):\n",
        "    path = [goal]\n",
        "    current = goal\n",
        "\n",
        "    while current != start:\n",
        "        neighbors_ = neighbors(current, len(cube), len(cube[0]))\n",
        "        current = (pos for pos in neighbors_ if pos in visited and pos not in path)\n",
        "        path.append(current)\n",
        "\n",
        "    return path\n",
        "\n",
        "\n",
        "path = Astar(cube)\n",
        "print(\"A* Path:\", path)\n"
      ],
      "metadata": {
        "colab": {
          "base_uri": "https://localhost:8080/"
        },
        "id": "2s__YKImxA6A",
        "outputId": "f4550d9f-f867-43e3-98d9-4a2a34c976dc"
      },
      "execution_count": null,
      "outputs": [
        {
          "output_type": "stream",
          "name": "stdout",
          "text": [
            "A* Path: [(0, 2), (1, 2), (2, 2), (3, 2), (4, 2), (4, 3), (4, 4), (5, 4), (6, 4), (6, 3), (6, 2), (6, 1), (6, 0)]\n"
          ]
        }
      ]
    }
  ]
}